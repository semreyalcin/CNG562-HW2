{
  "nbformat": 4,
  "nbformat_minor": 0,
  "metadata": {
    "colab": {
      "name": "YALCIN_malaria_cell_images.ipynb",
      "version": "0.3.2",
      "provenance": [],
      "collapsed_sections": [],
      "include_colab_link": true
    },
    "kernelspec": {
      "name": "python3",
      "display_name": "Python 3"
    },
    "accelerator": "GPU"
  },
  "cells": [
    {
      "cell_type": "markdown",
      "metadata": {
        "id": "view-in-github",
        "colab_type": "text"
      },
      "source": [
        "<a href=\"https://colab.research.google.com/github/semreyalcin/CNG562-HW2/blob/master/YALCIN_malaria_cell_images.ipynb\" target=\"_parent\"><img src=\"https://colab.research.google.com/assets/colab-badge.svg\" alt=\"Open In Colab\"/></a>"
      ]
    },
    {
      "cell_type": "code",
      "metadata": {
        "id": "etX81_bbrqzl",
        "colab_type": "code",
        "outputId": "6c4e64d4-8b28-49ab-bb4c-64d1c2937467",
        "colab": {
          "base_uri": "https://localhost:8080/",
          "height": 51
        }
      },
      "source": [
        "!pip install -q kaggle\n",
        "!pip install -q kaggle-cli\n",
        "!mkdir .kaggle\n",
        "import json\n",
        "token = {\"username\":\"semizotu\",\"key\":\"6671a08a833b87d14ce28d067f71f93a\"}\n",
        "with open('/content/.kaggle/kaggle.json', 'w') as file:\n",
        "    json.dump(token, file)\n",
        "!cp /content/.kaggle/kaggle.json ~/.kaggle/kaggle.json\n",
        "!kaggle config set -n path -v{/content}    \n",
        "!chmod 600 /root/.kaggle/kaggle.json"
      ],
      "execution_count": 0,
      "outputs": [
        {
          "output_type": "stream",
          "text": [
            "mkdir: cannot create directory ‘.kaggle’: File exists\n",
            "- path is now set to: {/content}\n"
          ],
          "name": "stdout"
        }
      ]
    },
    {
      "cell_type": "code",
      "metadata": {
        "id": "tfazNQ7v1eVt",
        "colab_type": "code",
        "outputId": "b7fc80b6-06f5-4bf4-8646-ba7840263a1a",
        "colab": {
          "base_uri": "https://localhost:8080/",
          "height": 88
        }
      },
      "source": [
        "!kaggle datasets download -d iarunava/cell-images-for-detecting-malaria\n",
        "!mv {/content}/datasets/iarunava/cell-images-for-detecting-malaria/cell-images-for-detecting-malaria.zip /content\n",
        "!rm -r {/"
      ],
      "execution_count": 0,
      "outputs": [
        {
          "output_type": "stream",
          "text": [
            "Downloading cell-images-for-detecting-malaria.zip to {/content}/datasets/iarunava/cell-images-for-detecting-malaria\n",
            " 95% 319M/337M [00:02<00:00, 164MB/s]\n",
            "100% 337M/337M [00:02<00:00, 131MB/s]\n"
          ],
          "name": "stdout"
        }
      ]
    },
    {
      "cell_type": "code",
      "metadata": {
        "id": "9Dn795YO3Ouf",
        "colab_type": "code",
        "colab": {}
      },
      "source": [
        "!unzip cell-images-for-detecting-malaria.zip"
      ],
      "execution_count": 0,
      "outputs": []
    },
    {
      "cell_type": "code",
      "metadata": {
        "id": "aKjiSFJn8VCQ",
        "colab_type": "code",
        "outputId": "bd7a5799-cf28-41b0-fb9f-c577b325de72",
        "colab": {
          "base_uri": "https://localhost:8080/",
          "height": 51
        }
      },
      "source": [
        "from tensorflow.keras.preprocessing.image import ImageDataGenerator\n",
        "\n",
        "datagen = ImageDataGenerator(rescale=1./255, validation_split=0.2)\n",
        "\n",
        "\n",
        "train = datagen.flow_from_directory(\"cell_images\",\n",
        "                                          target_size=(64, 64),\n",
        "                                          batch_size=32,\n",
        "                                          class_mode='binary',\n",
        "                                          subset='training')\n",
        "\n",
        "test = datagen.flow_from_directory( \"cell_images\",\n",
        "                                         target_size=(64,64),\n",
        "                                         batch_size=32,\n",
        "                                         class_mode='binary',\n",
        "                                         subset='validation')"
      ],
      "execution_count": 0,
      "outputs": [
        {
          "output_type": "stream",
          "text": [
            "Found 22048 images belonging to 2 classes.\n",
            "Found 5510 images belonging to 2 classes.\n"
          ],
          "name": "stdout"
        }
      ]
    },
    {
      "cell_type": "code",
      "metadata": {
        "id": "nfXFSCvRAOQf",
        "colab_type": "code",
        "colab": {}
      },
      "source": [
        "from keras.models import Sequential\n",
        "from keras.layers import Dense, Conv2D, Flatten, MaxPool2D\n",
        "\n",
        "CNN = Sequential()\n",
        "\n",
        "CNN.add(Conv2D(64, (3,3), activation = 'relu', input_shape = (64,64,3)))\n",
        "CNN.add(MaxPool2D(pool_size=(2,2)))\n",
        "CNN.add(Conv2D(32, (3,3), activation = 'relu'))\n",
        "CNN.add(MaxPool2D(pool_size=(2,2)))\n",
        "CNN.add(Flatten())\n",
        "CNN.add(Dense(128, activation='relu'))\n",
        "CNN.add(Dense(1, activation='softmax'))"
      ],
      "execution_count": 0,
      "outputs": []
    },
    {
      "cell_type": "code",
      "metadata": {
        "id": "RLEgLXDZBcd5",
        "colab_type": "code",
        "colab": {}
      },
      "source": [
        "CNN.compile(optimizer = 'adam', loss='binary_crossentropy',metrics=['accuracy'])"
      ],
      "execution_count": 0,
      "outputs": []
    },
    {
      "cell_type": "code",
      "metadata": {
        "id": "B9PY3zTGBq4h",
        "colab_type": "code",
        "outputId": "5b5cc139-acfb-47bf-9a76-e43e05422c0e",
        "colab": {
          "base_uri": "https://localhost:8080/",
          "height": 377
        }
      },
      "source": [
        "CNN.fit_generator(train, steps_per_epoch = 8, epochs = 10, validation_data = test, validation_steps = 50)"
      ],
      "execution_count": 0,
      "outputs": [
        {
          "output_type": "stream",
          "text": [
            "Epoch 1/10\n",
            "8/8 [==============================] - 4s 443ms/step - loss: 0.6990 - acc: 0.5117 - val_loss: 0.6920 - val_acc: 0.5032\n",
            "Epoch 2/10\n",
            "8/8 [==============================] - 2s 275ms/step - loss: 0.6918 - acc: 0.5391 - val_loss: 0.6926 - val_acc: 0.5044\n",
            "Epoch 3/10\n",
            "8/8 [==============================] - 2s 274ms/step - loss: 0.6946 - acc: 0.4961 - val_loss: 0.6963 - val_acc: 0.5038\n",
            "Epoch 4/10\n",
            "8/8 [==============================] - 2s 273ms/step - loss: 0.6964 - acc: 0.4648 - val_loss: 0.6928 - val_acc: 0.4994\n",
            "Epoch 5/10\n",
            "8/8 [==============================] - 2s 272ms/step - loss: 0.6913 - acc: 0.5859 - val_loss: 0.6913 - val_acc: 0.5273\n",
            "Epoch 6/10\n",
            "8/8 [==============================] - 2s 277ms/step - loss: 0.6913 - acc: 0.5156 - val_loss: 0.6949 - val_acc: 0.4963\n",
            "Epoch 7/10\n",
            "8/8 [==============================] - 2s 274ms/step - loss: 0.6805 - acc: 0.5352 - val_loss: 0.6852 - val_acc: 0.5456\n",
            "Epoch 8/10\n",
            "8/8 [==============================] - 2s 269ms/step - loss: 0.6688 - acc: 0.6250 - val_loss: 0.6703 - val_acc: 0.5324\n",
            "Epoch 9/10\n",
            "8/8 [==============================] - 2s 274ms/step - loss: 0.6463 - acc: 0.5898 - val_loss: 0.9995 - val_acc: 0.4969\n",
            "Epoch 10/10\n",
            "8/8 [==============================] - 2s 277ms/step - loss: 0.6959 - acc: 0.5781 - val_loss: 0.6976 - val_acc: 0.5119\n"
          ],
          "name": "stdout"
        }
      ]
    },
    {
      "cell_type": "markdown",
      "metadata": {
        "id": "gbzoKfhOOHhM",
        "colab_type": "text"
      },
      "source": [
        "#Transfer Learning"
      ]
    },
    {
      "cell_type": "code",
      "metadata": {
        "id": "_nxdSjtyJOCE",
        "colab_type": "code",
        "outputId": "3aca2c3c-c710-484c-aec7-61cb232bfebd",
        "colab": {
          "base_uri": "https://localhost:8080/",
          "height": 428
        }
      },
      "source": [
        "from keras.applications.resnet50 import ResNet50\n",
        "from keras.preprocessing import image\n",
        "from keras.applications.resnet50 import preprocess_input, decode_predictions\n",
        "import numpy as np\n",
        "\n",
        "tfl = Sequential()\n",
        "\n",
        "tfl.add(ResNet50(weights='imagenet'))\n",
        "tfl.add(Dense(1, activation = 'softmax'))\n",
        "\n",
        "tfl.compile(optimizer = 'adam', loss='binary_crossentropy',metrics=['accuracy'])\n",
        "\n",
        "\n",
        "train = datagen.flow_from_directory(\"cell_images\",\n",
        "                                          target_size=(224, 224),\n",
        "                                          batch_size=32,\n",
        "                                          class_mode='binary',\n",
        "                                          subset='training')\n",
        "\n",
        "test = datagen.flow_from_directory( \"cell_images\",\n",
        "                                         target_size=(224, 224),\n",
        "                                         batch_size=32,\n",
        "                                         class_mode='binary',\n",
        "                                         subset='validation')\n",
        "\n",
        "\n",
        "tfl.fit_generator(train, steps_per_epoch = 8, epochs = 10, validation_data = test, validation_steps = 50)"
      ],
      "execution_count": 0,
      "outputs": [
        {
          "output_type": "stream",
          "text": [
            "Found 22048 images belonging to 2 classes.\n",
            "Found 5510 images belonging to 2 classes.\n",
            "Epoch 1/10\n",
            "8/8 [==============================] - 31s 4s/step - loss: 8.4071 - acc: 0.4727 - val_loss: 8.1605 - val_acc: 0.4881\n",
            "Epoch 2/10\n",
            "8/8 [==============================] - 10s 1s/step - loss: 8.6562 - acc: 0.4570 - val_loss: 7.5826 - val_acc: 0.5244\n",
            "Epoch 3/10\n",
            "8/8 [==============================] - 10s 1s/step - loss: 7.2862 - acc: 0.5430 - val_loss: 8.2004 - val_acc: 0.4856\n",
            "Epoch 4/10\n",
            "8/8 [==============================] - 10s 1s/step - loss: 7.7844 - acc: 0.5117 - val_loss: 7.5863 - val_acc: 0.5241\n",
            "Epoch 5/10\n",
            "8/8 [==============================] - 10s 1s/step - loss: 7.7844 - acc: 0.5117 - val_loss: 8.0708 - val_acc: 0.4938\n",
            "Epoch 6/10\n",
            "8/8 [==============================] - 10s 1s/step - loss: 8.2203 - acc: 0.4844 - val_loss: 8.0908 - val_acc: 0.4925\n",
            "Epoch 7/10\n",
            "8/8 [==============================] - 10s 1s/step - loss: 8.4071 - acc: 0.4727 - val_loss: 8.1940 - val_acc: 0.4860\n",
            "Epoch 8/10\n",
            "8/8 [==============================] - 10s 1s/step - loss: 8.3448 - acc: 0.4766 - val_loss: 8.0210 - val_acc: 0.4969\n",
            "Epoch 9/10\n",
            "8/8 [==============================] - 10s 1s/step - loss: 8.1580 - acc: 0.4883 - val_loss: 7.7918 - val_acc: 0.5112\n",
            "Epoch 10/10\n",
            "8/8 [==============================] - 10s 1s/step - loss: 8.4071 - acc: 0.4727 - val_loss: 8.0011 - val_acc: 0.4981\n"
          ],
          "name": "stdout"
        },
        {
          "output_type": "execute_result",
          "data": {
            "text/plain": [
              "<keras.callbacks.History at 0x7fb932dc4da0>"
            ]
          },
          "metadata": {
            "tags": []
          },
          "execution_count": 44
        }
      ]
    },
    {
      "cell_type": "markdown",
      "metadata": {
        "id": "oIKq41WQQmtq",
        "colab_type": "text"
      },
      "source": [
        "For some reason I couldn't train the models well. They did not improve their results in each epoch."
      ]
    }
  ]
}